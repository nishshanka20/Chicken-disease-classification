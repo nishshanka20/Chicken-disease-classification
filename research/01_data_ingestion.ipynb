{
 "cells": [
  {
   "cell_type": "code",
   "execution_count": 1,
   "id": "1e3a4bb7",
   "metadata": {},
   "outputs": [],
   "source": [
    "import os"
   ]
  },
  {
   "cell_type": "code",
   "execution_count": 2,
   "id": "312afa04",
   "metadata": {},
   "outputs": [
    {
     "data": {
      "text/plain": [
       "'d:\\\\myprojects\\\\Chicken_disease_classification\\\\Chicken-disease-classification\\\\research'"
      ]
     },
     "execution_count": 2,
     "metadata": {},
     "output_type": "execute_result"
    }
   ],
   "source": [
    "%pwd"
   ]
  },
  {
   "cell_type": "code",
   "execution_count": 3,
   "id": "489da6d7",
   "metadata": {},
   "outputs": [],
   "source": [
    "os.chdir('../')"
   ]
  },
  {
   "cell_type": "code",
   "execution_count": 4,
   "id": "b3735fb3",
   "metadata": {},
   "outputs": [
    {
     "data": {
      "text/plain": [
       "'d:\\\\myprojects\\\\Chicken_disease_classification\\\\Chicken-disease-classification'"
      ]
     },
     "execution_count": 4,
     "metadata": {},
     "output_type": "execute_result"
    }
   ],
   "source": [
    "%pwd"
   ]
  },
  {
   "cell_type": "code",
   "execution_count": null,
   "id": "974f38f5",
   "metadata": {},
   "outputs": [],
   "source": [
    "# entity\n",
    "from dataclasses import dataclass\n",
    "from pathlib import Path\n",
    "\n",
    "@dataclass(frozen=True)\n",
    "class DataIngestionConfig:\n",
    "    root_dir: Path\n",
    "    source_url: str\n",
    "    local_data_file: Path\n",
    "    unzip_dir: Path"
   ]
  },
  {
   "cell_type": "code",
   "execution_count": 6,
   "id": "b25c4be6",
   "metadata": {},
   "outputs": [],
   "source": [
    "from chicken_disease_prediction.constants import *\n",
    "from chicken_disease_prediction.utils.common import read_yaml,create_directories"
   ]
  },
  {
   "cell_type": "code",
   "execution_count": 7,
   "id": "646dcd89",
   "metadata": {},
   "outputs": [],
   "source": [
    "class ConfigurationManager:\n",
    "    def __init__(\n",
    "            self,\n",
    "            config_filepath = CONFIG_FILE_PATH,\n",
    "            params_filepath = PARAMS_FILE_PATH):\n",
    "            \n",
    "            self.config=read_yaml(config_filepath)\n",
    "            self.params=read_yaml(params_filepath)\n",
    "\n",
    "            create_directories([self.config.artifacts_root])\n",
    "\n",
    "    def get_data_ingestion_config(self)-> DataIngestionConfig:\n",
    "          config=self.config.data_ingestion\n",
    "\n",
    "          create_directories([config.root_dir])\n",
    "\n",
    "          data_ingestion_config=DataIngestionConfig(\n",
    "                root_dir=config.root_dir,\n",
    "                source_url=config.source_url,\n",
    "                local_data_file=config.local_data_file,\n",
    "                unzip_dir=config.unzip_dir\n",
    "          )\n",
    "          return data_ingestion_config\n",
    "            \n",
    "    "
   ]
  },
  {
   "cell_type": "code",
   "execution_count": 8,
   "id": "49805921",
   "metadata": {},
   "outputs": [],
   "source": [
    "#updata components\n",
    "import os\n",
    "import urllib.request as request\n",
    "import zipfile\n",
    "from chicken_disease_prediction import logger\n",
    "from chicken_disease_prediction.utils.common import get_size"
   ]
  },
  {
   "cell_type": "code",
   "execution_count": 9,
   "id": "7fdcbeb2",
   "metadata": {},
   "outputs": [],
   "source": [
    "import gdown"
   ]
  },
  {
   "cell_type": "code",
   "execution_count": null,
   "id": "6450320a",
   "metadata": {},
   "outputs": [],
   "source": [
    "# check downloaded file exactly zip file or not\n",
    "import zipfile\n",
    "\n",
    "def is_zipfile_valid(filepath):\n",
    "    return zipfile.is_zipfile(filepath)\n"
   ]
  },
  {
   "cell_type": "code",
   "execution_count": 13,
   "id": "aac7a571",
   "metadata": {},
   "outputs": [],
   "source": [
    "class DataIngestion:\n",
    "    def __init__(self, config: DataIngestionConfig):\n",
    "        self.config = config\n",
    "\n",
    "    def download_file(self):\n",
    "        if not os.path.exists(self.config.local_data_file):\n",
    "            filename = gdown.download(\n",
    "                url=self.config.source_url,\n",
    "                output=self.config.local_data_file,\n",
    "                quiet=False,\n",
    "                fuzzy=True\n",
    "            )\n",
    "            logger.info(f\"{filename} downloaded successfully\")\n",
    "        else:\n",
    "            logger.info(f\"File already exists of size: {get_size(Path(self.config.local_data_file))}\")\n",
    "\n",
    "    def extract_zip_file(self):\n",
    "        \"\"\"\n",
    "        zip_file_path: str\n",
    "        extracts the zip file into the data directory\n",
    "        function returns None\n",
    "        \"\"\"\n",
    "\n",
    "        if zipfile.is_zipfile(self.config.local_data_file):\n",
    "            with zipfile.ZipFile(self.config.local_data_file, 'r') as zip_ref:\n",
    "                zip_ref.extractall(self.config.unzip_dir)\n",
    "                logger.info(f\"Extracted all files to {self.config.unzip_dir}\")\n",
    "        else:\n",
    "            logger.error(\"Downloaded file is not a valid zip file.\")\n",
    "            raise zipfile.BadZipFile(\"Downloaded file is not a valid zip file.\")\n",
    "            "
   ]
  },
  {
   "cell_type": "code",
   "execution_count": 15,
   "id": "4614dfe8",
   "metadata": {},
   "outputs": [
    {
     "name": "stdout",
     "output_type": "stream",
     "text": [
      "[2025-05-19 17:19:29,621: INFO: common: yaml file: config\\config.yaml loaded successfully]\n",
      "[2025-05-19 17:19:29,623: INFO: common: yaml file: params.yaml loaded successfully]\n",
      "[2025-05-19 17:19:29,624: INFO: common: created directory at: artifacts]\n",
      "[2025-05-19 17:19:29,625: INFO: common: created directory at: artifacts/data_ingestion]\n"
     ]
    },
    {
     "name": "stderr",
     "output_type": "stream",
     "text": [
      "Downloading...\n",
      "From (original): https://drive.google.com/uc?id=1pHWZX77G1Ue1pKq0m-lHCTukHrkX1FcP\n",
      "From (redirected): https://drive.google.com/uc?id=1pHWZX77G1Ue1pKq0m-lHCTukHrkX1FcP&confirm=t&uuid=3b699053-a93a-4189-b7e9-fafc1fee340c\n",
      "To: d:\\myprojects\\Chicken_disease_classification\\Chicken-disease-classification\\artifacts\\data_ingestion\\Dataset.zip\n",
      "100%|██████████| 101M/101M [00:04<00:00, 21.4MB/s] "
     ]
    },
    {
     "name": "stdout",
     "output_type": "stream",
     "text": [
      "[2025-05-19 17:19:39,051: INFO: 19171549: artifacts/data_ingestion/Dataset.zip downloaded successfully]\n"
     ]
    },
    {
     "name": "stderr",
     "output_type": "stream",
     "text": [
      "\n"
     ]
    },
    {
     "name": "stdout",
     "output_type": "stream",
     "text": [
      "[2025-05-19 17:19:41,085: INFO: 19171549: Extracted all files to artifacts/data_ingestion]\n"
     ]
    }
   ],
   "source": [
    "#create pipeline\n",
    "try:\n",
    "    config=ConfigurationManager()\n",
    "    data_ingestion_config=config.get_data_ingestion_config()\n",
    "    data_ingestion=DataIngestion(config=data_ingestion_config)\n",
    "    data_ingestion.download_file()\n",
    "    data_ingestion.extract_zip_file()\n",
    "except Exception as e:\n",
    "    logger.exception(e)\n",
    "    raise e"
   ]
  },
  {
   "cell_type": "code",
   "execution_count": null,
   "id": "cea9bc56",
   "metadata": {},
   "outputs": [],
   "source": []
  }
 ],
 "metadata": {
  "kernelspec": {
   "display_name": "chicken",
   "language": "python",
   "name": "python3"
  },
  "language_info": {
   "codemirror_mode": {
    "name": "ipython",
    "version": 3
   },
   "file_extension": ".py",
   "mimetype": "text/x-python",
   "name": "python",
   "nbconvert_exporter": "python",
   "pygments_lexer": "ipython3",
   "version": "3.8.20"
  }
 },
 "nbformat": 4,
 "nbformat_minor": 5
}
